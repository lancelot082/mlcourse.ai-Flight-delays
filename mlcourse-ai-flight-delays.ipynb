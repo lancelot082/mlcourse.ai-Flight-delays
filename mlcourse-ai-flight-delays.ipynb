{
 "cells": [
  {
   "cell_type": "code",
   "execution_count": 1,
   "id": "8f912ee3",
   "metadata": {
    "_cell_guid": "b1076dfc-b9ad-4769-8c92-a6c4dae69d19",
    "_uuid": "8f2839f25d086af736a60e9eeb907d3b93b6e0e5",
    "execution": {
     "iopub.execute_input": "2025-01-17T15:21:11.485954Z",
     "iopub.status.busy": "2025-01-17T15:21:11.485506Z",
     "iopub.status.idle": "2025-01-17T15:21:15.001500Z",
     "shell.execute_reply": "2025-01-17T15:21:15.000408Z"
    },
    "papermill": {
     "duration": 3.52299,
     "end_time": "2025-01-17T15:21:15.003445",
     "exception": false,
     "start_time": "2025-01-17T15:21:11.480455",
     "status": "completed"
    },
    "tags": []
   },
   "outputs": [],
   "source": [
    "import numpy as np # linear algebra\n",
    "import pandas as pd # data processing, CSV file I/O (e.g. pd.read_csv)\n",
    "\n",
    "from catboost import CatBoostClassifier\n",
    "from sklearn.model_selection import train_test_split, cross_val_score, KFold\n",
    "from sklearn.metrics import roc_curve, auc\n",
    "import matplotlib.pyplot as plt\n",
    "import plotly.express as px\n",
    "import seaborn as sns"
   ]
  },
  {
   "cell_type": "code",
   "execution_count": 2,
   "id": "1e20ef2d",
   "metadata": {
    "execution": {
     "iopub.execute_input": "2025-01-17T15:21:15.011684Z",
     "iopub.status.busy": "2025-01-17T15:21:15.011171Z",
     "iopub.status.idle": "2025-01-17T15:21:15.329380Z",
     "shell.execute_reply": "2025-01-17T15:21:15.328300Z"
    },
    "papermill": {
     "duration": 0.324394,
     "end_time": "2025-01-17T15:21:15.331441",
     "exception": false,
     "start_time": "2025-01-17T15:21:15.007047",
     "status": "completed"
    },
    "tags": []
   },
   "outputs": [],
   "source": [
    "train = pd.read_csv('/kaggle/input/flight-delays-fall-2018/flight_delays_train.csv.zip', compression='zip')\n",
    "test = pd.read_csv('/kaggle/input/flight-delays-fall-2018/flight_delays_test.csv.zip', compression='zip')\n",
    "\n",
    "train['dep_delayed_15min'] = train['dep_delayed_15min'].map({\"N\" : 0, \"Y\" : 1})\n",
    "y = train['dep_delayed_15min']\n",
    "train = train.drop('dep_delayed_15min', axis = 1)"
   ]
  },
  {
   "cell_type": "code",
   "execution_count": 3,
   "id": "2948bc5b",
   "metadata": {
    "execution": {
     "iopub.execute_input": "2025-01-17T15:21:15.339149Z",
     "iopub.status.busy": "2025-01-17T15:21:15.338793Z",
     "iopub.status.idle": "2025-01-17T15:21:15.388376Z",
     "shell.execute_reply": "2025-01-17T15:21:15.387153Z"
    },
    "papermill": {
     "duration": 0.055526,
     "end_time": "2025-01-17T15:21:15.390315",
     "exception": false,
     "start_time": "2025-01-17T15:21:15.334789",
     "status": "completed"
    },
    "tags": []
   },
   "outputs": [
    {
     "name": "stdout",
     "output_type": "stream",
     "text": [
      "<class 'pandas.core.frame.DataFrame'>\n",
      "RangeIndex: 100000 entries, 0 to 99999\n",
      "Data columns (total 8 columns):\n",
      " #   Column         Non-Null Count   Dtype \n",
      "---  ------         --------------   ----- \n",
      " 0   Month          100000 non-null  object\n",
      " 1   DayofMonth     100000 non-null  object\n",
      " 2   DayOfWeek      100000 non-null  object\n",
      " 3   DepTime        100000 non-null  int64 \n",
      " 4   UniqueCarrier  100000 non-null  object\n",
      " 5   Origin         100000 non-null  object\n",
      " 6   Dest           100000 non-null  object\n",
      " 7   Distance       100000 non-null  int64 \n",
      "dtypes: int64(2), object(6)\n",
      "memory usage: 6.1+ MB\n"
     ]
    }
   ],
   "source": [
    "train.info()"
   ]
  },
  {
   "cell_type": "code",
   "execution_count": 4,
   "id": "eea81d2a",
   "metadata": {
    "execution": {
     "iopub.execute_input": "2025-01-17T15:21:15.398089Z",
     "iopub.status.busy": "2025-01-17T15:21:15.397676Z",
     "iopub.status.idle": "2025-01-17T15:21:15.404065Z",
     "shell.execute_reply": "2025-01-17T15:21:15.403095Z"
    },
    "papermill": {
     "duration": 0.011975,
     "end_time": "2025-01-17T15:21:15.405629",
     "exception": false,
     "start_time": "2025-01-17T15:21:15.393654",
     "status": "completed"
    },
    "tags": []
   },
   "outputs": [
    {
     "data": {
      "text/plain": [
       "set()"
      ]
     },
     "execution_count": 4,
     "metadata": {},
     "output_type": "execute_result"
    }
   ],
   "source": [
    "set(train) - set(test)"
   ]
  },
  {
   "cell_type": "code",
   "execution_count": 5,
   "id": "61b87929",
   "metadata": {
    "execution": {
     "iopub.execute_input": "2025-01-17T15:21:15.413770Z",
     "iopub.status.busy": "2025-01-17T15:21:15.413376Z",
     "iopub.status.idle": "2025-01-17T15:21:15.421213Z",
     "shell.execute_reply": "2025-01-17T15:21:15.420154Z"
    },
    "papermill": {
     "duration": 0.013915,
     "end_time": "2025-01-17T15:21:15.423106",
     "exception": false,
     "start_time": "2025-01-17T15:21:15.409191",
     "status": "completed"
    },
    "tags": []
   },
   "outputs": [],
   "source": [
    "def data_preparation(train):\n",
    "\n",
    "    #train['destenation'] = train['Origin'] + \"--\" + train['Dest']\n",
    "    train = train.drop(['Origin', 'Dest'], axis = 1)\n",
    "    \n",
    "    train[['Month', 'DayofMonth', 'DayOfWeek']] = train[['Month', 'DayofMonth', 'DayOfWeek']].applymap(lambda row: row.strip('c-'))\n",
    "\n",
    "    train['is_weekend'] = (train['DayOfWeek'] == '6') | (train['DayOfWeek'] == '7')\n",
    "\n",
    "    train['summer'] = (train['Month'].astype('int64').isin([6, 7, 8]))\n",
    "    train['autumn'] = (train['Month'].astype('int64').isin([9, 10, 11]))\n",
    "    train['winter'] = (train['Month'].astype('int64').isin([12, 1, 2]))\n",
    "    train['spring'] = (train['Month'].astype('int64').isin([3, 4, 5]))\n",
    "\n",
    "    def time_of_day(hour):\n",
    "        if 5 <= hour < 10:\n",
    "            return 'Early Morning'\n",
    "        elif 10 <= hour < 15:\n",
    "            return 'Late Morning'\n",
    "        elif 15 <= hour < 20:\n",
    "            return 'Afternoon'\n",
    "        else:\n",
    "            return 'Evening/Night'\n",
    "    \n",
    "    train['TimeOfDay'] = (train['DepTime'] // 100).apply(time_of_day).astype('object')\n",
    "\n",
    "    cat_feat_idx = [train.columns.get_loc(col) for col in train.select_dtypes(include='object').columns]    \n",
    "    \n",
    "    return train, cat_feat_idx"
   ]
  },
  {
   "cell_type": "code",
   "execution_count": 6,
   "id": "e22ce437",
   "metadata": {
    "execution": {
     "iopub.execute_input": "2025-01-17T15:21:15.431760Z",
     "iopub.status.busy": "2025-01-17T15:21:15.431332Z",
     "iopub.status.idle": "2025-01-17T15:21:15.619564Z",
     "shell.execute_reply": "2025-01-17T15:21:15.618469Z"
    },
    "papermill": {
     "duration": 0.194531,
     "end_time": "2025-01-17T15:21:15.621409",
     "exception": false,
     "start_time": "2025-01-17T15:21:15.426878",
     "status": "completed"
    },
    "tags": []
   },
   "outputs": [
    {
     "name": "stderr",
     "output_type": "stream",
     "text": [
      "<ipython-input-5-8ddf98b52e37>:6: FutureWarning: DataFrame.applymap has been deprecated. Use DataFrame.map instead.\n",
      "  train[['Month', 'DayofMonth', 'DayOfWeek']] = train[['Month', 'DayofMonth', 'DayOfWeek']].applymap(lambda row: row.strip('c-'))\n"
     ]
    }
   ],
   "source": [
    "train_data, cat_feat_idx = data_preparation(train)"
   ]
  },
  {
   "cell_type": "code",
   "execution_count": 7,
   "id": "2efb8059",
   "metadata": {
    "execution": {
     "iopub.execute_input": "2025-01-17T15:21:15.629858Z",
     "iopub.status.busy": "2025-01-17T15:21:15.629461Z",
     "iopub.status.idle": "2025-01-17T15:21:15.662311Z",
     "shell.execute_reply": "2025-01-17T15:21:15.661225Z"
    },
    "papermill": {
     "duration": 0.039077,
     "end_time": "2025-01-17T15:21:15.664156",
     "exception": false,
     "start_time": "2025-01-17T15:21:15.625079",
     "status": "completed"
    },
    "tags": []
   },
   "outputs": [],
   "source": [
    "X = train_data\n",
    "\n",
    "X_train, X_test, y_train, y_test = train_test_split(X, y, test_size = 0.3, random_state = 42)"
   ]
  },
  {
   "cell_type": "code",
   "execution_count": 8,
   "id": "dca51034",
   "metadata": {
    "execution": {
     "iopub.execute_input": "2025-01-17T15:21:15.672801Z",
     "iopub.status.busy": "2025-01-17T15:21:15.672336Z",
     "iopub.status.idle": "2025-01-17T15:21:15.678348Z",
     "shell.execute_reply": "2025-01-17T15:21:15.677449Z"
    },
    "papermill": {
     "duration": 0.012474,
     "end_time": "2025-01-17T15:21:15.680127",
     "exception": false,
     "start_time": "2025-01-17T15:21:15.667653",
     "status": "completed"
    },
    "tags": []
   },
   "outputs": [
    {
     "data": {
      "text/plain": [
       "[0, 1, 2, 4, 11]"
      ]
     },
     "execution_count": 8,
     "metadata": {},
     "output_type": "execute_result"
    }
   ],
   "source": [
    "cat_feat_idx"
   ]
  },
  {
   "cell_type": "code",
   "execution_count": 9,
   "id": "561cc5a0",
   "metadata": {
    "execution": {
     "iopub.execute_input": "2025-01-17T15:21:15.688359Z",
     "iopub.status.busy": "2025-01-17T15:21:15.688006Z",
     "iopub.status.idle": "2025-01-17T15:26:47.464908Z",
     "shell.execute_reply": "2025-01-17T15:26:47.463782Z"
    },
    "papermill": {
     "duration": 331.785832,
     "end_time": "2025-01-17T15:26:47.469609",
     "exception": false,
     "start_time": "2025-01-17T15:21:15.683777",
     "status": "completed"
    },
    "tags": []
   },
   "outputs": [
    {
     "name": "stdout",
     "output_type": "stream",
     "text": [
      "Cross-Validation AUC scores: [0.74802956 0.74112746 0.74566243 0.74789476 0.74300882]\n",
      "Mean AUC: 0.7451\n",
      "ROC AUC on test set: 0.7455\n"
     ]
    }
   ],
   "source": [
    "kf = KFold(n_splits=5, shuffle=True, random_state=42)\n",
    "\n",
    "model = CatBoostClassifier(cat_features=cat_feat_idx, eval_metric='AUC', verbose=0)\n",
    "\n",
    "# Кросс-валидация с расчетом AUC\n",
    "cross_valid_scores = cross_val_score(\n",
    "    estimator=model,\n",
    "    X=X,\n",
    "    y=y,\n",
    "    cv=kf,\n",
    "    scoring='roc_auc'  # Используем встроенную метрику roc_auc\n",
    ")\n",
    "\n",
    "print(f'Cross-Validation AUC scores: {cross_valid_scores}')\n",
    "print(f'Mean AUC: {cross_valid_scores.mean():.4f}')\n",
    "\n",
    "\n",
    "model.fit(X_train, y_train)\n",
    "\n",
    "y_pred = model.predict_proba(X_test)[:, 1]\n",
    "\n",
    "\n",
    "# Вычисляем ROC-кривую\n",
    "fpr, tpr, thresholds = roc_curve(y_test, y_pred)\n",
    "\n",
    "# Вычисляем AUC\n",
    "roc_auc = auc(fpr, tpr)\n",
    "\n",
    "print(f'ROC AUC on test set: {roc_auc:.4f}')"
   ]
  },
  {
   "cell_type": "code",
   "execution_count": 10,
   "id": "d46f8be6",
   "metadata": {
    "execution": {
     "iopub.execute_input": "2025-01-17T15:26:47.478432Z",
     "iopub.status.busy": "2025-01-17T15:26:47.478107Z",
     "iopub.status.idle": "2025-01-17T15:26:48.331124Z",
     "shell.execute_reply": "2025-01-17T15:26:48.329616Z"
    },
    "papermill": {
     "duration": 0.859875,
     "end_time": "2025-01-17T15:26:48.333263",
     "exception": false,
     "start_time": "2025-01-17T15:26:47.473388",
     "status": "completed"
    },
    "tags": []
   },
   "outputs": [
    {
     "name": "stderr",
     "output_type": "stream",
     "text": [
      "<ipython-input-5-8ddf98b52e37>:6: FutureWarning: DataFrame.applymap has been deprecated. Use DataFrame.map instead.\n",
      "  train[['Month', 'DayofMonth', 'DayOfWeek']] = train[['Month', 'DayofMonth', 'DayOfWeek']].applymap(lambda row: row.strip('c-'))\n"
     ]
    }
   ],
   "source": [
    "test_idx = test.index\n",
    "test_data, _ = data_preparation(test)\n",
    "\n",
    "y_pred_test = model.predict_proba(test_data)[:, 1] \n",
    "\n",
    "submission = pd.DataFrame({\n",
    "    'id' : test_idx,\n",
    "    'dep_delayed_15min' : y_pred_test\n",
    "})\n",
    "\n",
    "submission.to_csv('submission.csv', index=False)"
   ]
  },
  {
   "cell_type": "code",
   "execution_count": 11,
   "id": "6a32917d",
   "metadata": {
    "execution": {
     "iopub.execute_input": "2025-01-17T15:26:48.342989Z",
     "iopub.status.busy": "2025-01-17T15:26:48.342594Z",
     "iopub.status.idle": "2025-01-17T15:26:48.355371Z",
     "shell.execute_reply": "2025-01-17T15:26:48.354329Z"
    },
    "papermill": {
     "duration": 0.020024,
     "end_time": "2025-01-17T15:26:48.357229",
     "exception": false,
     "start_time": "2025-01-17T15:26:48.337205",
     "status": "completed"
    },
    "tags": []
   },
   "outputs": [
    {
     "data": {
      "text/html": [
       "<div>\n",
       "<style scoped>\n",
       "    .dataframe tbody tr th:only-of-type {\n",
       "        vertical-align: middle;\n",
       "    }\n",
       "\n",
       "    .dataframe tbody tr th {\n",
       "        vertical-align: top;\n",
       "    }\n",
       "\n",
       "    .dataframe thead th {\n",
       "        text-align: right;\n",
       "    }\n",
       "</style>\n",
       "<table border=\"1\" class=\"dataframe\">\n",
       "  <thead>\n",
       "    <tr style=\"text-align: right;\">\n",
       "      <th></th>\n",
       "      <th>id</th>\n",
       "      <th>dep_delayed_15min</th>\n",
       "    </tr>\n",
       "  </thead>\n",
       "  <tbody>\n",
       "    <tr>\n",
       "      <th>0</th>\n",
       "      <td>0</td>\n",
       "      <td>0.042609</td>\n",
       "    </tr>\n",
       "    <tr>\n",
       "      <th>1</th>\n",
       "      <td>1</td>\n",
       "      <td>0.035701</td>\n",
       "    </tr>\n",
       "    <tr>\n",
       "      <th>2</th>\n",
       "      <td>2</td>\n",
       "      <td>0.043435</td>\n",
       "    </tr>\n",
       "    <tr>\n",
       "      <th>3</th>\n",
       "      <td>3</td>\n",
       "      <td>0.218866</td>\n",
       "    </tr>\n",
       "    <tr>\n",
       "      <th>4</th>\n",
       "      <td>4</td>\n",
       "      <td>0.206283</td>\n",
       "    </tr>\n",
       "  </tbody>\n",
       "</table>\n",
       "</div>"
      ],
      "text/plain": [
       "   id  dep_delayed_15min\n",
       "0   0           0.042609\n",
       "1   1           0.035701\n",
       "2   2           0.043435\n",
       "3   3           0.218866\n",
       "4   4           0.206283"
      ]
     },
     "execution_count": 11,
     "metadata": {},
     "output_type": "execute_result"
    }
   ],
   "source": [
    "submission.head()"
   ]
  }
 ],
 "metadata": {
  "kaggle": {
   "accelerator": "none",
   "dataSources": [
    {
     "databundleVersionId": 210239,
     "sourceId": 12176,
     "sourceType": "competition"
    }
   ],
   "dockerImageVersionId": 30822,
   "isGpuEnabled": false,
   "isInternetEnabled": false,
   "language": "python",
   "sourceType": "notebook"
  },
  "kernelspec": {
   "display_name": "Python 3",
   "language": "python",
   "name": "python3"
  },
  "language_info": {
   "codemirror_mode": {
    "name": "ipython",
    "version": 3
   },
   "file_extension": ".py",
   "mimetype": "text/x-python",
   "name": "python",
   "nbconvert_exporter": "python",
   "pygments_lexer": "ipython3",
   "version": "3.10.12"
  },
  "papermill": {
   "default_parameters": {},
   "duration": 340.525148,
   "end_time": "2025-01-17T15:26:49.184338",
   "environment_variables": {},
   "exception": null,
   "input_path": "__notebook__.ipynb",
   "output_path": "__notebook__.ipynb",
   "parameters": {},
   "start_time": "2025-01-17T15:21:08.659190",
   "version": "2.6.0"
  }
 },
 "nbformat": 4,
 "nbformat_minor": 5
}
